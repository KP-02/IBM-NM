{
 "cells": [
  {
   "cell_type": "code",
   "execution_count": 12,
   "id": "fc8abf05",
   "metadata": {},
   "outputs": [],
   "source": [
    "import numpy as np\n",
    "import pandas as pd\n",
    "import matplotlib.pyplot as plt\n",
    "from sklearn.model_selection import train_test_split"
   ]
  },
  {
   "cell_type": "code",
   "execution_count": 13,
   "id": "4dcba429",
   "metadata": {},
   "outputs": [],
   "source": [
    "from keras.preprocessing.image import ImageDataGenerator\n",
    "from keras.models import Sequential\n",
    "from keras.layers import Conv2D, MaxPooling2D, Flatten, Dense"
   ]
  },
  {
   "cell_type": "code",
   "execution_count": 14,
   "id": "8383f2a7",
   "metadata": {},
   "outputs": [
    {
     "name": "stdout",
     "output_type": "stream",
     "text": [
      "Found 5400 images belonging to 90 classes.\n"
     ]
    }
   ],
   "source": [
    "# Load the dataset\n",
    "dataset = ImageDataGenerator().flow_from_directory(\n",
    "    'animals/animals/',\n",
    "    target_size=(224, 224),\n",
    "    batch_size=32,\n",
    "    class_mode='categorical')\n",
    "\n",
    "X, y = next(dataset)\n",
    "\n",
    "# Split the data into train and test sets\n",
    "X_train, X_test, y_train, y_test = train_test_split(X, y, test_size=0.2, random_state=42)"
   ]
  },
  {
   "cell_type": "code",
   "execution_count": 15,
   "id": "dd394e09",
   "metadata": {},
   "outputs": [],
   "source": [
    "# Data augmentation\n",
    "datagen = ImageDataGenerator(\n",
    "    rotation_range=40,\n",
    "    width_shift_range=0.2,\n",
    "    height_shift_range=0.2,\n",
    "    horizontal_flip=True)\n",
    "\n",
    "datagen.fit(X_train)"
   ]
  },
  {
   "cell_type": "code",
   "execution_count": 16,
   "id": "72320e99",
   "metadata": {},
   "outputs": [],
   "source": [
    "# Build the CNN model\n",
    "model = Sequential()\n",
    "\n",
    "model.add(Conv2D(32, (3, 3), padding='same', activation='relu', input_shape=(224, 224, 3)))\n",
    "model.add(MaxPooling2D((2, 2), strides=(2, 2)))\n",
    "\n",
    "model.add(Conv2D(64, (3, 3), padding='same', activation='relu'))\n",
    "model.add(MaxPooling2D((2, 2), strides=(2, 2)))\n",
    "\n",
    "model.add(Flatten())\n",
    "\n",
    "model.add(Dense(128, activation='relu'))\n",
    "model.add(Dense(90, activation='softmax'))"
   ]
  },
  {
   "cell_type": "code",
   "execution_count": 17,
   "id": "decf48bc",
   "metadata": {},
   "outputs": [],
   "source": [
    "# Compile the model\n",
    "model.compile(loss='categorical_crossentropy', optimizer='adam', metrics=['accuracy'])"
   ]
  },
  {
   "cell_type": "code",
   "execution_count": 22,
   "id": "c7037cb8",
   "metadata": {},
   "outputs": [
    {
     "name": "stderr",
     "output_type": "stream",
     "text": [
      "/var/folders/lk/3_zr138x3w3dvrkl0n78dj040000gn/T/ipykernel_4130/3640455062.py:2: UserWarning: `Model.fit_generator` is deprecated and will be removed in a future version. Please use `Model.fit`, which supports generators.\n",
      "  history = model.fit_generator(datagen.flow(X_train, y_train, batch_size=32), epochs=100)\n"
     ]
    },
    {
     "name": "stdout",
     "output_type": "stream",
     "text": [
      "Epoch 1/100\n"
     ]
    },
    {
     "name": "stderr",
     "output_type": "stream",
     "text": [
      "2023-05-24 14:04:11.852924: I tensorflow/core/common_runtime/executor.cc:1197] [/device:CPU:0] (DEBUG INFO) Executor start aborting (this does not indicate an error and you can ignore this message): INVALID_ARGUMENT: You must feed a value for placeholder tensor 'Placeholder/_0' with dtype int32\n",
      "\t [[{{node Placeholder/_0}}]]\n"
     ]
    },
    {
     "name": "stdout",
     "output_type": "stream",
     "text": [
      "1/1 [==============================] - 1s 1s/step - loss: 2.7277 - accuracy: 0.3600\n",
      "Epoch 2/100\n",
      "1/1 [==============================] - 1s 1s/step - loss: 2.7946 - accuracy: 0.2800\n",
      "Epoch 3/100\n",
      "1/1 [==============================] - 1s 1s/step - loss: 2.9008 - accuracy: 0.2800\n",
      "Epoch 4/100\n",
      "1/1 [==============================] - 1s 977ms/step - loss: 2.6975 - accuracy: 0.3600\n",
      "Epoch 5/100\n",
      "1/1 [==============================] - 1s 972ms/step - loss: 2.5519 - accuracy: 0.2800\n",
      "Epoch 6/100\n",
      "1/1 [==============================] - 1s 1s/step - loss: 2.7102 - accuracy: 0.3200\n",
      "Epoch 7/100\n",
      "1/1 [==============================] - 1s 1s/step - loss: 2.2836 - accuracy: 0.4000\n",
      "Epoch 8/100\n",
      "1/1 [==============================] - 1s 1s/step - loss: 2.8514 - accuracy: 0.3600\n",
      "Epoch 9/100\n",
      "1/1 [==============================] - 1s 1s/step - loss: 2.3120 - accuracy: 0.4400\n",
      "Epoch 10/100\n",
      "1/1 [==============================] - 1s 1s/step - loss: 2.4162 - accuracy: 0.3600\n",
      "Epoch 11/100\n",
      "1/1 [==============================] - 1s 1s/step - loss: 2.3655 - accuracy: 0.4400\n",
      "Epoch 12/100\n",
      "1/1 [==============================] - 1s 1s/step - loss: 2.1895 - accuracy: 0.4000\n",
      "Epoch 13/100\n",
      "1/1 [==============================] - 1s 1s/step - loss: 2.5371 - accuracy: 0.3200\n",
      "Epoch 14/100\n",
      "1/1 [==============================] - 1s 1s/step - loss: 2.2211 - accuracy: 0.3200\n",
      "Epoch 15/100\n",
      "1/1 [==============================] - 1s 988ms/step - loss: 2.0936 - accuracy: 0.4800\n",
      "Epoch 16/100\n",
      "1/1 [==============================] - 1s 1s/step - loss: 2.1344 - accuracy: 0.4800\n",
      "Epoch 17/100\n",
      "1/1 [==============================] - 1s 1s/step - loss: 1.9881 - accuracy: 0.4400\n",
      "Epoch 18/100\n",
      "1/1 [==============================] - 1s 985ms/step - loss: 2.1763 - accuracy: 0.4000\n",
      "Epoch 19/100\n",
      "1/1 [==============================] - 1s 1s/step - loss: 2.1048 - accuracy: 0.4400\n",
      "Epoch 20/100\n",
      "1/1 [==============================] - 1s 1s/step - loss: 1.9477 - accuracy: 0.5600\n",
      "Epoch 21/100\n",
      "1/1 [==============================] - 1s 1s/step - loss: 1.8250 - accuracy: 0.5200\n",
      "Epoch 22/100\n",
      "1/1 [==============================] - 1s 1s/step - loss: 1.8257 - accuracy: 0.4800\n",
      "Epoch 23/100\n",
      "1/1 [==============================] - 1s 987ms/step - loss: 1.6560 - accuracy: 0.4800\n",
      "Epoch 24/100\n",
      "1/1 [==============================] - 1s 981ms/step - loss: 1.6267 - accuracy: 0.6000\n",
      "Epoch 25/100\n",
      "1/1 [==============================] - 1s 967ms/step - loss: 1.5313 - accuracy: 0.4800\n",
      "Epoch 26/100\n",
      "1/1 [==============================] - 1s 996ms/step - loss: 1.5637 - accuracy: 0.5600\n",
      "Epoch 27/100\n",
      "1/1 [==============================] - 1s 1s/step - loss: 1.4503 - accuracy: 0.5600\n",
      "Epoch 28/100\n",
      "1/1 [==============================] - 1s 955ms/step - loss: 1.3048 - accuracy: 0.6000\n",
      "Epoch 29/100\n",
      "1/1 [==============================] - 1s 1s/step - loss: 1.1953 - accuracy: 0.6800\n",
      "Epoch 30/100\n",
      "1/1 [==============================] - 1s 986ms/step - loss: 1.3178 - accuracy: 0.5200\n",
      "Epoch 31/100\n",
      "1/1 [==============================] - 1s 1s/step - loss: 1.1762 - accuracy: 0.7600\n",
      "Epoch 32/100\n",
      "1/1 [==============================] - 1s 948ms/step - loss: 1.1509 - accuracy: 0.6400\n",
      "Epoch 33/100\n",
      "1/1 [==============================] - 1s 962ms/step - loss: 1.0991 - accuracy: 0.6800\n",
      "Epoch 34/100\n",
      "1/1 [==============================] - 1s 970ms/step - loss: 1.7576 - accuracy: 0.6000\n",
      "Epoch 35/100\n",
      "1/1 [==============================] - 1s 1s/step - loss: 1.8145 - accuracy: 0.6000\n",
      "Epoch 36/100\n",
      "1/1 [==============================] - 1s 966ms/step - loss: 1.2054 - accuracy: 0.5200\n",
      "Epoch 37/100\n",
      "1/1 [==============================] - 1s 979ms/step - loss: 1.1345 - accuracy: 0.6000\n",
      "Epoch 38/100\n",
      "1/1 [==============================] - 1s 989ms/step - loss: 1.4298 - accuracy: 0.4800\n",
      "Epoch 39/100\n",
      "1/1 [==============================] - 1s 1s/step - loss: 1.3553 - accuracy: 0.5600\n",
      "Epoch 40/100\n",
      "1/1 [==============================] - 1s 987ms/step - loss: 1.4861 - accuracy: 0.4800\n",
      "Epoch 41/100\n",
      "1/1 [==============================] - 1s 989ms/step - loss: 1.1192 - accuracy: 0.6400\n",
      "Epoch 42/100\n",
      "1/1 [==============================] - 1s 957ms/step - loss: 1.3326 - accuracy: 0.5200\n",
      "Epoch 43/100\n",
      "1/1 [==============================] - 1s 976ms/step - loss: 1.2896 - accuracy: 0.5200\n",
      "Epoch 44/100\n",
      "1/1 [==============================] - 1s 1s/step - loss: 1.0578 - accuracy: 0.7200\n",
      "Epoch 45/100\n",
      "1/1 [==============================] - 1s 1s/step - loss: 1.1862 - accuracy: 0.6800\n",
      "Epoch 46/100\n",
      "1/1 [==============================] - 1s 1s/step - loss: 1.3190 - accuracy: 0.5200\n",
      "Epoch 47/100\n",
      "1/1 [==============================] - 1s 1s/step - loss: 1.1518 - accuracy: 0.6000\n",
      "Epoch 48/100\n",
      "1/1 [==============================] - 1s 1s/step - loss: 1.0790 - accuracy: 0.5600\n",
      "Epoch 49/100\n",
      "1/1 [==============================] - 1s 1s/step - loss: 0.7768 - accuracy: 0.7600\n",
      "Epoch 50/100\n",
      "1/1 [==============================] - 1s 956ms/step - loss: 0.8652 - accuracy: 0.7200\n",
      "Epoch 51/100\n",
      "1/1 [==============================] - 1s 971ms/step - loss: 0.9079 - accuracy: 0.6000\n",
      "Epoch 52/100\n",
      "1/1 [==============================] - 1s 964ms/step - loss: 0.8328 - accuracy: 0.6800\n",
      "Epoch 53/100\n",
      "1/1 [==============================] - 1s 999ms/step - loss: 0.8838 - accuracy: 0.7600\n",
      "Epoch 54/100\n",
      "1/1 [==============================] - 1s 976ms/step - loss: 0.6203 - accuracy: 0.8800\n",
      "Epoch 55/100\n",
      "1/1 [==============================] - 1s 983ms/step - loss: 0.8005 - accuracy: 0.7200\n",
      "Epoch 56/100\n",
      "1/1 [==============================] - 1s 1s/step - loss: 0.6607 - accuracy: 0.6800\n",
      "Epoch 57/100\n",
      "1/1 [==============================] - 1s 977ms/step - loss: 0.6234 - accuracy: 0.8000\n",
      "Epoch 58/100\n",
      "1/1 [==============================] - 1s 971ms/step - loss: 0.6254 - accuracy: 0.8400\n",
      "Epoch 59/100\n",
      "1/1 [==============================] - 1s 1s/step - loss: 0.5474 - accuracy: 0.8000\n",
      "Epoch 60/100\n",
      "1/1 [==============================] - 1s 1s/step - loss: 0.6631 - accuracy: 0.8400\n",
      "Epoch 61/100\n",
      "1/1 [==============================] - 1s 1s/step - loss: 0.9711 - accuracy: 0.7600\n",
      "Epoch 62/100\n",
      "1/1 [==============================] - 1s 1s/step - loss: 0.5681 - accuracy: 0.8000\n",
      "Epoch 63/100\n",
      "1/1 [==============================] - 1s 1s/step - loss: 0.6507 - accuracy: 0.7200\n",
      "Epoch 64/100\n",
      "1/1 [==============================] - 1s 1s/step - loss: 0.4403 - accuracy: 0.8400\n",
      "Epoch 65/100\n",
      "1/1 [==============================] - 1s 1s/step - loss: 0.5562 - accuracy: 0.8000\n",
      "Epoch 66/100\n",
      "1/1 [==============================] - 1s 1s/step - loss: 0.7125 - accuracy: 0.8400\n",
      "Epoch 67/100\n",
      "1/1 [==============================] - 1s 1s/step - loss: 0.6409 - accuracy: 0.8000\n",
      "Epoch 68/100\n",
      "1/1 [==============================] - 1s 1s/step - loss: 0.3336 - accuracy: 0.9200\n",
      "Epoch 69/100\n",
      "1/1 [==============================] - 1s 979ms/step - loss: 0.8094 - accuracy: 0.8000\n",
      "Epoch 70/100\n",
      "1/1 [==============================] - 1s 990ms/step - loss: 0.6700 - accuracy: 0.8800\n",
      "Epoch 71/100\n",
      "1/1 [==============================] - 1s 1s/step - loss: 0.9328 - accuracy: 0.6800\n",
      "Epoch 72/100\n",
      "1/1 [==============================] - 1s 978ms/step - loss: 0.4288 - accuracy: 0.8400\n",
      "Epoch 73/100\n",
      "1/1 [==============================] - 1s 975ms/step - loss: 0.4984 - accuracy: 0.8400\n",
      "Epoch 74/100\n",
      "1/1 [==============================] - 1s 992ms/step - loss: 0.6891 - accuracy: 0.8000\n",
      "Epoch 75/100\n",
      "1/1 [==============================] - 1s 972ms/step - loss: 0.7996 - accuracy: 0.7600\n",
      "Epoch 76/100\n",
      "1/1 [==============================] - 1s 975ms/step - loss: 0.2194 - accuracy: 0.9600\n",
      "Epoch 77/100\n",
      "1/1 [==============================] - 1s 985ms/step - loss: 0.3273 - accuracy: 0.8800\n",
      "Epoch 78/100\n",
      "1/1 [==============================] - 1s 955ms/step - loss: 0.6666 - accuracy: 0.8400\n",
      "Epoch 79/100\n",
      "1/1 [==============================] - 1s 971ms/step - loss: 0.5021 - accuracy: 0.8000\n",
      "Epoch 80/100\n",
      "1/1 [==============================] - 1s 959ms/step - loss: 0.3194 - accuracy: 0.8800\n",
      "Epoch 81/100\n",
      "1/1 [==============================] - 1s 1s/step - loss: 0.6862 - accuracy: 0.8400\n",
      "Epoch 82/100\n",
      "1/1 [==============================] - 1s 1s/step - loss: 0.5597 - accuracy: 0.8000\n",
      "Epoch 83/100\n",
      "1/1 [==============================] - 1s 1s/step - loss: 0.3493 - accuracy: 0.8800\n",
      "Epoch 84/100\n"
     ]
    },
    {
     "name": "stdout",
     "output_type": "stream",
     "text": [
      "1/1 [==============================] - 1s 1s/step - loss: 0.5344 - accuracy: 0.8000\n",
      "Epoch 85/100\n",
      "1/1 [==============================] - 1s 1s/step - loss: 0.3122 - accuracy: 0.8800\n",
      "Epoch 86/100\n",
      "1/1 [==============================] - 1s 1s/step - loss: 0.4238 - accuracy: 0.8400\n",
      "Epoch 87/100\n",
      "1/1 [==============================] - 1s 1s/step - loss: 0.3145 - accuracy: 0.9600\n",
      "Epoch 88/100\n",
      "1/1 [==============================] - 1s 1s/step - loss: 0.4574 - accuracy: 0.7600\n",
      "Epoch 89/100\n",
      "1/1 [==============================] - 1s 1s/step - loss: 0.3824 - accuracy: 0.8800\n",
      "Epoch 90/100\n",
      "1/1 [==============================] - 1s 1s/step - loss: 0.6755 - accuracy: 0.8800\n",
      "Epoch 91/100\n",
      "1/1 [==============================] - 1s 1s/step - loss: 0.4899 - accuracy: 0.8000\n",
      "Epoch 92/100\n",
      "1/1 [==============================] - 1s 1s/step - loss: 0.3267 - accuracy: 0.9200\n",
      "Epoch 93/100\n",
      "1/1 [==============================] - 1s 1s/step - loss: 0.3467 - accuracy: 0.8800\n",
      "Epoch 94/100\n",
      "1/1 [==============================] - 1s 1s/step - loss: 0.5781 - accuracy: 0.8400\n",
      "Epoch 95/100\n",
      "1/1 [==============================] - 1s 1s/step - loss: 0.4018 - accuracy: 0.8400\n",
      "Epoch 96/100\n",
      "1/1 [==============================] - 1s 1s/step - loss: 0.5208 - accuracy: 0.8000\n",
      "Epoch 97/100\n",
      "1/1 [==============================] - 1s 1s/step - loss: 0.2014 - accuracy: 0.9200\n",
      "Epoch 98/100\n",
      "1/1 [==============================] - 1s 1s/step - loss: 0.4108 - accuracy: 0.8000\n",
      "Epoch 99/100\n",
      "1/1 [==============================] - 1s 1s/step - loss: 0.4523 - accuracy: 0.8400\n",
      "Epoch 100/100\n",
      "1/1 [==============================] - 1s 1s/step - loss: 0.1781 - accuracy: 1.0000\n"
     ]
    }
   ],
   "source": [
    "# Train the model\n",
    "history = model.fit_generator(datagen.flow(X_train, y_train, batch_size=32), epochs=100)"
   ]
  },
  {
   "cell_type": "code",
   "execution_count": 23,
   "id": "142c2580",
   "metadata": {},
   "outputs": [
    {
     "name": "stdout",
     "output_type": "stream",
     "text": [
      "Train loss: 25.204391479492188\n",
      "Train accuracy: 0.75\n"
     ]
    }
   ],
   "source": [
    "# Evaluate the model\n",
    "score = model.evaluate(X, y, verbose=0)\n",
    "print('Train loss:', score[0])\n",
    "print('Train accuracy:', score[1])"
   ]
  },
  {
   "cell_type": "code",
   "execution_count": 24,
   "id": "33139a0e",
   "metadata": {},
   "outputs": [
    {
     "data": {
      "image/png": "[encoded data removed]",
      "text/plain": [
       "<Figure size 640x480 with 1 Axes>"
      ]
     },
     "metadata": {},
     "output_type": "display_data"
    }
   ],
   "source": [
    "# Plot the training curves\n",
    "plt.plot(history.history['loss'])\n",
    "plt.plot(history.history['accuracy'])\n",
    "plt.title('Model Training')\n",
    "plt.ylabel('Metric')\n",
    "plt.xlabel('Epoch')\n",
    "plt.legend(['Loss', 'Accuracy'], loc='upper right')\n",
    "plt.show()"
   ]
  },
  {
   "cell_type": "code",
   "execution_count": null,
   "id": "f28ee306",
   "metadata": {},
   "outputs": [],
   "source": []
  }
 ],
 "metadata": {
  "kernelspec": {
   "display_name": "Python 3 (ipykernel)",
   "language": "python",
   "name": "python3"
  },
  "language_info": {
   "codemirror_mode": {
    "name": "ipython",
    "version": 3
   },
   "file_extension": ".py",
   "mimetype": "text/x-python",
   "name": "python",
   "nbconvert_exporter": "python",
   "pygments_lexer": "ipython3",
   "version": "3.8.0"
  }
 },
 "nbformat": 4,
 "nbformat_minor": 5
}
