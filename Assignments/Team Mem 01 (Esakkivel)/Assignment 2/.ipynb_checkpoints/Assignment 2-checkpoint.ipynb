{
 "cells": [
  {
   "cell_type": "code",
   "execution_count": 1,
   "id": "52da601c",
   "metadata": {},
   "outputs": [
    {
     "name": "stderr",
     "output_type": "stream",
     "text": [
      "2023-05-24 13:46:09.504768: I tensorflow/core/platform/cpu_feature_guard.cc:182] This TensorFlow binary is optimized to use available CPU instructions in performance-critical operations.\n",
      "To enable the following instructions: AVX2 FMA, in other operations, rebuild TensorFlow with the appropriate compiler flags.\n"
     ]
    }
   ],
   "source": [
    "import pandas as pd\n",
    "import numpy as np\n",
    "from sklearn.model_selection import train_test_split\n",
    "from sklearn.preprocessing import StandardScaler\n",
    "from tensorflow.keras.models import Sequential\n",
    "from tensorflow.keras.layers import Dense"
   ]
  },
  {
   "cell_type": "code",
   "execution_count": 2,
   "id": "aef15032",
   "metadata": {},
   "outputs": [],
   "source": [
    "# 1. Preprocess the Dataset\n",
    "# Load the dataset\n",
    "df = pd.read_csv('House Price India.csv')\n",
    "\n",
    "# Drop unnecessary columns\n",
    "df.drop(['id', 'Date', 'Postal Code', 'Lattitude', 'Longitude'], axis=1, inplace=True)\n",
    "\n",
    "# Convert columns to appropriate data types\n",
    "df['number of bathrooms'] = df['number of bathrooms'].astype(int)\n",
    "df['waterfront present'] = df['waterfront present'].astype(int)\n",
    "\n",
    "# Handle missing values\n",
    "df['Area of the basement'].fillna(0, inplace=True)  # Assuming missing values mean no basement area\n",
    "df['Renovation Year'].fillna(df['Built Year'], inplace=True)  # Assuming missing values mean no renovation\n",
    "\n",
    "# Split the dataset into features and target variable\n",
    "X = df.drop('Price', axis=1)\n",
    "y = df['Price']\n",
    "\n",
    "# Split the data into train and test sets\n",
    "X_train, X_test, y_train, y_test = train_test_split(X, y, test_size=0.2, random_state=42)\n",
    "\n",
    "# Apply feature scaling\n",
    "scaler = StandardScaler()\n",
    "X_train_scaled = scaler.fit_transform(X_train)\n",
    "X_test_scaled = scaler.transform(X_test)"
   ]
  },
  {
   "cell_type": "code",
   "execution_count": 3,
   "id": "dfdd9d1b",
   "metadata": {},
   "outputs": [
    {
     "name": "stdout",
     "output_type": "stream",
     "text": [
      "Epoch 1/10\n",
      "366/366 [==============================] - 1s 1ms/step - loss: 422333972480.0000\n",
      "Epoch 2/10\n",
      "366/366 [==============================] - 0s 1ms/step - loss: 414087610368.0000\n",
      "Epoch 3/10\n",
      "366/366 [==============================] - 0s 1ms/step - loss: 386634809344.0000\n",
      "Epoch 4/10\n",
      "366/366 [==============================] - 0s 1ms/step - loss: 336630284288.0000\n",
      "Epoch 5/10\n",
      "366/366 [==============================] - 0s 1ms/step - loss: 270566260736.0000\n",
      "Epoch 6/10\n",
      "366/366 [==============================] - 0s 1ms/step - loss: 202656055296.0000\n",
      "Epoch 7/10\n",
      "366/366 [==============================] - 0s 1ms/step - loss: 148709130240.0000\n",
      "Epoch 8/10\n",
      "366/366 [==============================] - 0s 1ms/step - loss: 115636338688.0000\n",
      "Epoch 9/10\n",
      "366/366 [==============================] - 0s 1ms/step - loss: 98066743296.0000\n",
      "Epoch 10/10\n",
      "366/366 [==============================] - 0s 1ms/step - loss: 88587862016.0000\n"
     ]
    },
    {
     "data": {
      "text/plain": [
       "<keras.callbacks.History at 0x7f89663e0ca0>"
      ]
     },
     "execution_count": 3,
     "metadata": {},
     "output_type": "execute_result"
    }
   ],
   "source": [
    "# 2. Build the ANN Model\n",
    "model = Sequential()\n",
    "model.add(Dense(64, activation='relu', input_shape=(X_train.shape[1],)))\n",
    "model.add(Dense(64, activation='relu'))\n",
    "model.add(Dense(1))\n",
    "\n",
    "# Compile the model\n",
    "model.compile(optimizer='adam', loss='mean_squared_error')\n",
    "\n",
    "# 3. Train the Model\n",
    "model.fit(X_train_scaled, y_train, epochs=10, batch_size=32, verbose=1)"
   ]
  },
  {
   "cell_type": "code",
   "execution_count": 4,
   "id": "ea8e0826",
   "metadata": {},
   "outputs": [
    {
     "name": "stdout",
     "output_type": "stream",
     "text": [
      "92/92 [==============================] - 0s 865us/step - loss: 86626738176.0000\n",
      "Mean Squared Error on test set: 86626738176.0\n",
      "92/92 [==============================] - 0s 769us/step\n"
     ]
    },
    {
     "data": {
      "text/html": [
       "<div>\n",
       "<style scoped>\n",
       "    .dataframe tbody tr th:only-of-type {\n",
       "        vertical-align: middle;\n",
       "    }\n",
       "\n",
       "    .dataframe tbody tr th {\n",
       "        vertical-align: top;\n",
       "    }\n",
       "\n",
       "    .dataframe thead th {\n",
       "        text-align: right;\n",
       "    }\n",
       "</style>\n",
       "<table border=\"1\" class=\"dataframe\">\n",
       "  <thead>\n",
       "    <tr style=\"text-align: right;\">\n",
       "      <th></th>\n",
       "      <th>Actual Price</th>\n",
       "      <th>Predicted Price</th>\n",
       "    </tr>\n",
       "  </thead>\n",
       "  <tbody>\n",
       "    <tr>\n",
       "      <th>3837</th>\n",
       "      <td>235000</td>\n",
       "      <td>159291.015625</td>\n",
       "    </tr>\n",
       "    <tr>\n",
       "      <th>4098</th>\n",
       "      <td>552000</td>\n",
       "      <td>174864.625000</td>\n",
       "    </tr>\n",
       "    <tr>\n",
       "      <th>357</th>\n",
       "      <td>615000</td>\n",
       "      <td>390755.687500</td>\n",
       "    </tr>\n",
       "    <tr>\n",
       "      <th>11768</th>\n",
       "      <td>555000</td>\n",
       "      <td>315228.156250</td>\n",
       "    </tr>\n",
       "    <tr>\n",
       "      <th>9751</th>\n",
       "      <td>649950</td>\n",
       "      <td>425196.000000</td>\n",
       "    </tr>\n",
       "  </tbody>\n",
       "</table>\n",
       "</div>"
      ],
      "text/plain": [
       "       Actual Price  Predicted Price\n",
       "3837         235000    159291.015625\n",
       "4098         552000    174864.625000\n",
       "357          615000    390755.687500\n",
       "11768        555000    315228.156250\n",
       "9751         649950    425196.000000"
      ]
     },
     "execution_count": 4,
     "metadata": {},
     "output_type": "execute_result"
    }
   ],
   "source": [
    "# 4. Test the Model\n",
    "# Evaluate the model on the test set\n",
    "loss = model.evaluate(X_test_scaled, y_test)\n",
    "print('Mean Squared Error on test set:', loss)\n",
    "\n",
    "# Predict house prices on the test set\n",
    "y_pred = model.predict(X_test_scaled)\n",
    "\n",
    "# Optional: Convert predictions to DataFrame for further analysis\n",
    "predictions_df = pd.DataFrame({'Actual Price': y_test, 'Predicted Price': y_pred.flatten()})\n",
    "predictions_df.head()\n"
   ]
  },
  {
   "cell_type": "code",
   "execution_count": null,
   "id": "d03e90b9",
   "metadata": {},
   "outputs": [],
   "source": []
  }
 ],
 "metadata": {
  "kernelspec": {
   "display_name": "Python 3 (ipykernel)",
   "language": "python",
   "name": "python3"
  },
  "language_info": {
   "codemirror_mode": {
    "name": "ipython",
    "version": 3
   },
   "file_extension": ".py",
   "mimetype": "text/x-python",
   "name": "python",
   "nbconvert_exporter": "python",
   "pygments_lexer": "ipython3",
   "version": "3.8.0"
  }
 },
 "nbformat": 4,
 "nbformat_minor": 5
}
